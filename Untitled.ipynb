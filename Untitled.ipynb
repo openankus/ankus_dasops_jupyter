{
 "cells": [
  {
   "cell_type": "code",
   "execution_count": null,
   "id": "9f8687d6-c259-499e-947c-4f1d60906ca7",
   "metadata": {},
   "outputs": [],
   "source": [
    "그래프 ACCT_LOCK_DTt 경로"
   ]
  },
  {
   "cell_type": "markdown",
   "id": "0169a406-78ec-4d6d-aaa8-db752239b960",
   "metadata": {},
   "source": [
    "## ankus Share Code - 그래프_그리기_예제\n",
    "> 그래프 그리는 예제"
   ]
  },
  {
   "cell_type": "code",
   "execution_count": null,
   "id": "146be7d6-98b4-4c90-84b3-d6afdfec5cbf",
   "metadata": {},
   "outputs": [],
   "source": [
    "import numpy as np dt\n",
    "import pandas as pd"
   ]
  },
  {
   "cell_type": "code",
   "execution_count": null,
   "id": "ff89a82d-c5f3-4e45-80fc-08ba3c3889e6",
   "metadata": {},
   "outputs": [],
   "source": [
    "# 꺽은선 그래프 그리기\n",
    "df = pd.DataFrame(np.random.rand(20,6), \n",
    "                  columns=['a','b','c','d','e','f'])\n",
    "df.plot.line(figsize = (15,5))"
   ]
  },
  {
   "cell_type": "code",
   "execution_count": null,
   "id": "7388d451-3e33-437e-9280-09c7a513ba1c",
   "metadata": {},
   "outputs": [],
   "source": [
    "# 막대 그래프 그리기 예제\n",
    "df = pd.DataFrame(np.random.rand(20,6), \n",
    "                  columns=['a','b','c','d','e','f'])\n",
    "df.plot.bar(figsize = (15,5), grid=True)"
   ]
  },
  {
   "cell_type": "code",
   "execution_count": null,
   "id": "0cb88f45-c6ee-4cd1-97fe-eeee6b5db29b",
   "metadata": {},
   "outputs": [],
   "source": [
    "# 영역 그래프 그리기 예제\n",
    "df = pd.DataFrame(np.random.rand(20,6), \n",
    "                  columns=['a','b','c','d','e','f'])\n",
    "df.plot.area(figsize = (15,5), xticks = (1,5,10,15,20), yticks = (1,2,3,4,5))"
   ]
  },
  {
   "cell_type": "code",
   "execution_count": null,
   "id": "a2ba4b82-46a6-458b-9eed-d400819b3fa2",
   "metadata": {},
   "outputs": [],
   "source": [
    "acct"
   ]
  },
  {
   "cell_type": "code",
   "execution_count": null,
   "id": "151ffeb4-9a41-4bb6-802c-203b15eff1b7",
   "metadata": {},
   "outputs": [],
   "source": []
  },
  {
   "cell_type": "code",
   "execution_count": null,
   "id": "26750c74-0849-47fd-9226-9351c4e64e30",
   "metadata": {},
   "outputs": [],
   "source": []
  },
  {
   "cell_type": "code",
   "execution_count": null,
   "id": "cbdd614e-0d7f-4e84-8177-abd13f3eaa6a",
   "metadata": {},
   "outputs": [],
   "source": []
  },
  {
   "cell_type": "code",
   "execution_count": null,
   "id": "159c1397-51dd-438b-90a5-85805ec8307b",
   "metadata": {},
   "outputs": [],
   "source": []
  },
  {
   "cell_type": "code",
   "execution_count": null,
   "id": "dd7a8a1c-b38a-4041-89c4-39a855662dbd",
   "metadata": {},
   "outputs": [],
   "source": []
  },
  {
   "cell_type": "code",
   "execution_count": null,
   "id": "c7ce79f5-7be0-4d2a-8084-3aa40e05abc0",
   "metadata": {},
   "outputs": [],
   "source": [
    "dt"
   ]
  },
  {
   "cell_type": "code",
   "execution_count": null,
   "id": "03a705b3-a667-45ea-bc62-14adc2f84b04",
   "metadata": {},
   "outputs": [],
   "source": []
  },
  {
   "cell_type": "code",
   "execution_count": null,
   "id": "7de55d03-e1e4-4db1-aae1-4a50a552e07f",
   "metadata": {},
   "outputs": [],
   "source": []
  },
  {
   "cell_type": "code",
   "execution_count": null,
   "id": "3de4ab4c-ff79-4e5b-a9fd-b43d68ada2f3",
   "metadata": {},
   "outputs": [],
   "source": []
  },
  {
   "cell_type": "code",
   "execution_count": null,
   "id": "e393cb5d-f930-4c16-bd47-cd04a43d34b5",
   "metadata": {},
   "outputs": [],
   "source": [
    "dt dfafdfdf"
   ]
  }
 ],
 "metadata": {
  "kernelspec": {
   "display_name": "Python 3 (ipykernel)",
   "language": "python",
   "name": "python3"
  },
  "language_info": {
   "codemirror_mode": {
    "name": "ipython",
    "version": 3
   },
   "file_extension": ".py",
   "mimetype": "text/x-python",
   "name": "python",
   "nbconvert_exporter": "python",
   "pygments_lexer": "ipython3",
   "version": "3.10.13"
  }
 },
 "nbformat": 4,
 "nbformat_minor": 5
}
